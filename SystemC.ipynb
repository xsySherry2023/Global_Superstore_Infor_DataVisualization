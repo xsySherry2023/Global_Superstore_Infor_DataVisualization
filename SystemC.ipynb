{
 "cells": [
  {
   "cell_type": "code",
   "execution_count": 1,
   "id": "827822b0",
   "metadata": {},
   "outputs": [
    {
     "name": "stdout",
     "output_type": "stream",
     "text": [
      "Displaying chart at http://localhost:55958/\n"
     ]
    }
   ],
   "source": [
    "import json\n",
    "import pandas as pd\n",
    "import altair as alt\n",
    "import numpy as np\n",
    "import altair as alt\n",
    "from vega_datasets import data\n",
    "from altair import datum\n",
    "\n",
    "def SystemC():\n",
    "    # import csv file use the first 2000 rows of data \n",
    "    supterstore_df = pd.read_csv('Global_Superstore.csv', low_memory=False, nrows=3000, encoding='UTF-8')\n",
    "    # standardized the Order Date\n",
    "    supterstore_df['Order Date'] = pd.to_datetime(supterstore_df['Order Date'], format='%d-%m-%Y')\n",
    "\n",
    "    # Brushing and linking condition, limit selection to x-axis (year) values\n",
    "    brush = alt.selection_interval(encodings=['x'])\n",
    "\n",
    "    # Bar chart, dynamic query histogram,  add the brushing and linking condition\n",
    "    # with x axis shows the year and y axis shows the total number of orders in that year\n",
    "    years = alt.Chart(supterstore_df).mark_bar(color='#1f77b4').add_selection(\n",
    "        brush\n",
    "    ).encode(\n",
    "        alt.X('yearmonth(Order Date):T', title='Month-Year'),\n",
    "        alt.Y('count():Q', title='Total Number of Orders')\n",
    "    ).properties(\n",
    "        # customize zhe title and subtitle \n",
    "        title={\n",
    "        \"text\": [\"Total Number of Orders by Month\"],\n",
    "        \"subtitle\": [\"Select a range on the bar chart to filter the scatter plot.\"],\n",
    "        \"subtitleColor\": \"gray\"\n",
    "    },\n",
    "        width=750,\n",
    "        height=200,\n",
    "    )\n",
    "\n",
    "    # add an interactive line chart layer to show the trend\n",
    "    line = alt.Chart(supterstore_df).mark_line(color='#FFA500',tension=0.7).encode(\n",
    "        alt.X('yearmonth(Order Date):T'),\n",
    "        alt.Y('count():Q', title='Total Number of Orders')\n",
    "    )\n",
    "\n",
    "    # Create the bubble chart, with sales for X axis, and profit for Y axis, it will shows all the orders by default\n",
    "    bubble = alt.Chart(supterstore_df).mark_point(filled=True).encode(\n",
    "        alt.X('Sales:Q', title='Sales (USD)'),\n",
    "        alt.Y('Profit:Q', title='Profit (USD)'),\n",
    "        # add differnt color and shapes for the market in order to show then clearly\n",
    "        alt.Color('Market:N', title='Market'),\n",
    "        alt.Shape('Market:N'),\n",
    "        alt.Size('Profit:Q', scale=alt.Scale(range=[30, 700]), title='Profit Value'),\n",
    "        # set the tooltip\n",
    "        tooltip=['Market:N', alt.Tooltip('Sales:Q', title='Sales($)'),alt.Tooltip('Profit:Q', title='Profit($)'), 'Category:N', 'Sub-Category:N'],\n",
    "        # change the opacity according to the selected range\n",
    "        opacity=alt.condition(brush, alt.value(0.75), alt.value(0.05))\n",
    "        ).properties(\n",
    "        # customize zhe title and subtitle \n",
    "        title={\n",
    "        \"text\": [\"Profit and Sales by Market\"],\n",
    "        \"subtitle\": [\"Hover over a data point to see more information.\"],\n",
    "        \"subtitleColor\": \"gray\"\n",
    "    },\n",
    "        width=750,\n",
    "        height=400,\n",
    "    ).interactive()\n",
    "\n",
    "    # vertially show the charts and add 30 unit of space\n",
    "    chart = alt.vconcat(bubble,alt.layer(years, line)).properties(spacing=30)\n",
    "    chart.save(\"SystemC.html\")\n",
    "    chart.show()\n",
    "\n",
    "SystemC()"
   ]
  }
 ],
 "metadata": {
  "kernelspec": {
   "display_name": "Python 3 (ipykernel)",
   "language": "python",
   "name": "python3"
  },
  "language_info": {
   "codemirror_mode": {
    "name": "ipython",
    "version": 3
   },
   "file_extension": ".py",
   "mimetype": "text/x-python",
   "name": "python",
   "nbconvert_exporter": "python",
   "pygments_lexer": "ipython3",
   "version": "3.8.5"
  }
 },
 "nbformat": 4,
 "nbformat_minor": 5
}
